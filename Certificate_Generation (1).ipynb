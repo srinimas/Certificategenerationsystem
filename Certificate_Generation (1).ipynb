{
  "nbformat": 4,
  "nbformat_minor": 0,
  "metadata": {
    "colab": {
      "name": "Certificate_Generation.ipynb",
      "provenance": [],
      "collapsed_sections": []
    },
    "kernelspec": {
      "name": "python3",
      "display_name": "Python 3"
    },
    "language_info": {
      "name": "python"
    }
  },
  "cells": [
    {
      "cell_type": "markdown",
      "metadata": {
        "id": "538aOpndMm1J"
      },
      "source": [
        "Certificate Generation Using Python"
      ]
    },
    {
      "cell_type": "code",
      "metadata": {
        "id": "52ycrzCPzUJt"
      },
      "source": [
        "import pandas as pd\n",
        "from PIL import Image, ImageDraw, ImageFont\n",
        "data = pd.read_excel('List.xls')\n",
        "data = data.head(70)\n",
        "list1= data[\"Name\"].tolist()\n",
        "for i in list1:\n",
        "  im = Image.open(\"Certificate.png\")\n",
        "  d= ImageDraw.Draw(im)\n",
        "  if(len(i)<=10):\n",
        "    location = (700, 550)\n",
        "    text_color = (0, 137, 209)\n",
        "    Font_URL = ImageFont.truetype(\"AbhayaLibre-Medium.ttf\",120)\n",
        "    d.text(location, i, fill = \"#bc7d8c\",align=\"centre\",stroke_width= 1,size='150px',font=Font_URL)\n",
        "    im.save(\"Certificate_\"+i+\".png\")\n",
        "  elif(len(i)>=11 & len(i)<=15):\n",
        "    location = (700, 560)\n",
        "    text_color = (0, 137, 209)\n",
        "    Font_URL = ImageFont.truetype(\"AbhayaLibre-Medium.ttf\",120)\n",
        "    d.text(location, i, fill = \"#bc7d8c\",align=\"centre\",stroke_width= 1,size='150px',font=Font_URL)\n",
        "    im.save(\"Certificate_\"+i+\".png\")\n",
        "  elif(len(i)>=16 & len(i)<=20):\n",
        "    location = (700, 550)\n",
        "    text_color = (0, 137, 209)\n",
        "    Font_URL = ImageFont.truetype(\"AbhayaLibre-Medium.ttf\",120)\n",
        "    d.text(location, i, fill = \"#bc7d8c\",align=\"centre\",stroke_width= 1,size='150px',font=Font_URL)\n",
        "    im.save(\"Certificate_\"+i+\".png\")\n",
        "  elif(len(i)>=21 & len(i)<=25):\n",
        "    location = (700, 550)\n",
        "    text_color = (0, 137, 209)\n",
        "    Font_URL = ImageFont.truetype(\"AbhayaLibre-Medium.ttf\",120)\n",
        "    d.text(location, i, fill = \"#bc7d8c\",align=\"centre\",stroke_width= 1,size='150px',font=Font_URL)\n",
        "    im.save(\"Certificate_\"+i+\".png\")\n",
        "  elif(len(i)>=26 & len(i)<=30):\n",
        "    location = (700, 550)\n",
        "    text_color = (0, 137, 209)\n",
        "    Font_URL = ImageFont.truetype(\"AbhayaLibre-Medium.ttf\",120)\n",
        "    d.text(location, i, fill = \"#bc7d8c\",align=\"centre\",stroke_width= 1,size='150px',font=Font_URL)\n",
        "    im.save(\"Certificate_\"+i+\".png\")\n",
        "  elif(len(i)>=31):\n",
        "    location = (700, 550)\n",
        "    text_color = (0, 137, 209)\n",
        "    Font_URL = ImageFont.truetype(\"AbhayaLibre-Medium.ttf\",120)\n",
        "    d.text(location, i, fill = \"#bc7d8c\",align=\"centre\",stroke_width= 1,size='150px',font=Font_URL)\n",
        "    im.save(\"Certificate_\"+i+\".png\")"
      ],
      "execution_count": 4,
      "outputs": []
    }
  ]
}